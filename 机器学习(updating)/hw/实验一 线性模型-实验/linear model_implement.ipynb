{
 "cells": [
  {
   "cell_type": "markdown",
   "metadata": {},
   "source": [
    "# 线性回归"
   ]
  },
  {
   "cell_type": "markdown",
   "metadata": {},
   "source": [
    "## 导入实验所需包"
   ]
  },
  {
   "cell_type": "code",
   "execution_count": null,
   "metadata": {},
   "outputs": [],
   "source": [
    "import numpy as np\n",
    "import pandas as pd\n",
    "import matplotlib.pyplot as plt"
   ]
  },
  {
   "cell_type": "markdown",
   "metadata": {},
   "source": [
    "## 定义模型\n",
    "### 参数初始化\n",
    "### 定义预测函数与损失函数\n",
    "预测函数为f(x)=w^T * x_i + b，损失函数为均方误差\n",
    "### 模型训练\n",
    "最小二乘法优化\n",
    "### 模型保存与加载\n",
    "### 模型预测与评估"
   ]
  },
  {
   "cell_type": "code",
   "execution_count": null,
   "metadata": {},
   "outputs": [],
   "source": [
    "# 使用最小二乘法实现线性回归\n",
    "class LinearRegression:\n",
    "    def __init__(self) -> None:\n",
    "        self.w = None\n",
    "        self.b = None\n",
    "    \n",
    "    def fit(self, X, y):\n",
    "        X = np.hstack([X, np.ones((X.shape[0], 1))])\n",
    "        self.w = np.linalg.inv(X.T.dot(X)).dot(X.T).dot(y)\n",
    "        self.b = self.w[-1]\n",
    "        self.w = self.w[:-1]\n",
    "    \n",
    "    def predict(self, X):\n",
    "        X = np.hstack([X, np.ones((X.shape[0], 1))])\n",
    "        return X.dot(np.hstack([self.w, self.b]))\n",
    "    "
   ]
  },
  {
   "cell_type": "markdown",
   "metadata": {},
   "source": []
  }
 ],
 "metadata": {
  "kernelspec": {
   "display_name": "Python 3.10.5 64-bit",
   "language": "python",
   "name": "python3"
  },
  "language_info": {
   "name": "python",
   "version": "3.10.5"
  },
  "orig_nbformat": 4,
  "vscode": {
   "interpreter": {
    "hash": "369f2c481f4da34e4445cda3fffd2e751bd1c4d706f27375911949ba6bb62e1c"
   }
  }
 },
 "nbformat": 4,
 "nbformat_minor": 2
}
